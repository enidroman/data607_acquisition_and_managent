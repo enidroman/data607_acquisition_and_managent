{
  "nbformat": 4,
  "nbformat_minor": 0,
  "metadata": {
    "colab": {
      "provenance": [],
      "authorship_tag": "ABX9TyO9mOenPBv/sFsgPO6aDPbr",
      "include_colab_link": true
    },
    "kernelspec": {
      "name": "python3",
      "display_name": "Python 3"
    },
    "language_info": {
      "name": "python"
    }
  },
  "cells": [
    {
      "cell_type": "markdown",
      "metadata": {
        "id": "view-in-github",
        "colab_type": "text"
      },
      "source": [
        "<a href=\"https://colab.research.google.com/github/enidroman/data_607_data_acquisition_and_management/blob/main/Neural_Network_of_Handwritten_Digits_Model_Preparation_and_Training.ipynb\" target=\"_parent\"><img src=\"https://colab.research.google.com/assets/colab-badge.svg\" alt=\"Open In Colab\"/></a>"
      ]
    },
    {
      "cell_type": "code",
      "execution_count": null,
      "metadata": {
        "colab": {
          "base_uri": "https://localhost:8080/"
        },
        "id": "VxG4qL_b7ZxJ",
        "outputId": "93298d26-37c4-459c-ad29-ef6c3060348a"
      },
      "outputs": [
        {
          "output_type": "stream",
          "name": "stdout",
          "text": [
            "Looking in indexes: https://pypi.org/simple, https://us-python.pkg.dev/colab-wheels/public/simple/\n",
            "Requirement already satisfied: pillow in /usr/local/lib/python3.8/dist-packages (7.1.2)\n"
          ]
        }
      ],
      "source": [
        "import numpy as np\n",
        "import tensorflow as tf\n",
        "import keras\n",
        "!pip install pillow"
      ]
    },
    {
      "cell_type": "code",
      "source": [
        "import keras\n",
        "from keras.datasets import mnist\n",
        "from keras.models import Sequential\n",
        "from keras.layers import Dense, Flatten\n",
        "from keras.layers import Dropout\n",
        "from keras.layers import Flatten\n",
        "from keras.layers import Conv2D\n",
        "from keras.layers import MaxPooling2D\n",
        "from keras import backend as K\n",
        "import keras.utils\n",
        "from keras import utils as np_utils\n",
        "from keras.optimizers import SGD\n",
        "from keras.utils import to_categorical\n",
        "#  to split the data of training and testing sets \n",
        "(x_train, y_train), (x_test, y_test) = mnist.load_data()\n",
        "print(x_train.shape, y_train.shape)"
      ],
      "metadata": {
        "id": "uqFaP78s8xT9",
        "colab": {
          "base_uri": "https://localhost:8080/"
        },
        "outputId": "74e26c05-92c0-42eb-e79c-9b27f98a1f2f"
      },
      "execution_count": null,
      "outputs": [
        {
          "output_type": "stream",
          "name": "stdout",
          "text": [
            "Downloading data from https://storage.googleapis.com/tensorflow/tf-keras-datasets/mnist.npz\n",
            "11490434/11490434 [==============================] - 0s 0us/step\n",
            "(60000, 28, 28) (60000,)\n"
          ]
        }
      ]
    },
    {
      "cell_type": "code",
      "source": [
        "import matplotlib.pyplot as plt"
      ],
      "metadata": {
        "id": "bCYevrEEaG6S"
      },
      "execution_count": null,
      "outputs": []
    },
    {
      "cell_type": "code",
      "source": [
        "# Plot ad hoc mnist instances\n",
        "from keras.datasets import mnist\n",
        "import matplotlib.pyplot as plt\n",
        "# load (downloaded if needed) the MNIST dataset\n",
        "(X_train, y_train), (X_test, y_test) = mnist.load_data()\n",
        "# plot 4 images as gray scale\n",
        "plt.subplot(221)\n",
        "plt.imshow(X_train[0], cmap=plt.get_cmap('gray'))\n",
        "plt.subplot(222)\n",
        "plt.imshow(X_train[1], cmap=plt.get_cmap('gray'))\n",
        "plt.subplot(223)\n",
        "plt.imshow(X_train[2], cmap=plt.get_cmap('gray'))\n",
        "plt.subplot(224)\n",
        "plt.imshow(X_train[3], cmap=plt.get_cmap('gray'))\n",
        "# show the plot\n",
        "plt.show()"
      ],
      "metadata": {
        "colab": {
          "base_uri": "https://localhost:8080/",
          "height": 268
        },
        "id": "zHYIDuBglPHP",
        "outputId": "5e12a371-ec9d-4048-9ac7-63de6a6e3957"
      },
      "execution_count": null,
      "outputs": [
        {
          "output_type": "display_data",
          "data": {
            "text/plain": [
              "<Figure size 432x288 with 4 Axes>"
            ],
            "image/png": "[encoded data removed]"
          },
          "metadata": {
            "needs_background": "light"
          }
        }
      ]
    },
    {
      "cell_type": "code",
      "source": [
        "x_train = x_train.reshape(x_train.shape[0], 28, 28, 1)\n",
        "x_test = x_test.reshape(x_test.shape[0], 28, 28, 1)\n",
        "input_shape = (28, 28, 1)\n",
        "\n",
        "# conversion of class vectors to matrices of  binary class \n",
        "\n",
        "y_train = keras.utils.to_categorical(y_train, num_classes=None, dtype='float32')\n",
        "y_test = keras.utils.to_categorical(y_test, num_classes=None, dtype='float32')\n",
        "x_train = x_train.astype('float32')\n",
        "x_test = x_test.astype('float32')\n",
        "x_train /= 255\n",
        "x_test /= 255\n",
        "\n",
        "print(to_categorical(1, 2))\n",
        "print(to_categorical(0, 2))\n",
        "\n",
        "print('x_train shape:', x_train.shape)\n",
        "print(x_train.shape[0], 'train samples')\n",
        "print(x_test.shape[0], 'test samples')\n"
      ],
      "metadata": {
        "colab": {
          "base_uri": "https://localhost:8080/"
        },
        "id": "lgG45kf8-RKP",
        "outputId": "84a99174-3d08-4bdb-c957-240557ba0f03"
      },
      "execution_count": null,
      "outputs": [
        {
          "output_type": "stream",
          "name": "stdout",
          "text": [
            "[0. 1.]\n",
            "[1. 0.]\n",
            "x_train shape: (60000, 28, 28, 1)\n",
            "60000 train samples\n",
            "10000 test samples\n"
          ]
        }
      ]
    },
    {
      "cell_type": "code",
      "source": [
        "batch_size = 128\n",
        "num_classes = 10\n",
        "epochs = 10\n",
        "model = Sequential()\n",
        "model.add(Conv2D(32, kernel_size=(3, 3),activation='relu',input_shape=input_shape))\n",
        "model.add(Conv2D(64, (3, 3), activation='relu'))\n",
        "model.add(MaxPooling2D(pool_size=(2, 2)))\n",
        "model.add(Dropout(0.25))\n",
        "model.add(Flatten())\n",
        "model.add(Dense(256, activation='relu'))\n",
        "model.add(Dropout(0.5))\n",
        "model.add(Dense(num_classes, activation='softmax'))\n",
        "model.compile(loss=keras.losses.categorical_crossentropy,optimizer=keras.optimizers.Adadelta(),metrics=['accuracy'])"
      ],
      "metadata": {
        "id": "EfKihPAI3Z4h"
      },
      "execution_count": null,
      "outputs": []
    },
    {
      "cell_type": "code",
      "source": [
        "hist = model.fit(x_train, y_train,batch_size=batch_size,epochs=epochs,verbose=1,validation_data=(x_test, y_test))\n",
        "print(\"The model has successfully trained\")\n",
        "model.save('mnist.h5')\n",
        "print(\"Saving the bot as mnist.h5\")"
      ],
      "metadata": {
        "colab": {
          "base_uri": "https://localhost:8080/"
        },
        "id": "3px4_7RO3mgb",
        "outputId": "a6133fee-60e4-4dd3-f0bf-ba1d6e4b8763"
      },
      "execution_count": null,
      "outputs": [
        {
          "output_type": "stream",
          "name": "stdout",
          "text": [
            "Epoch 1/10\n",
            "469/469 [==============================] - 189s 401ms/step - loss: 2.2761 - accuracy: 0.1669 - val_loss: 2.2467 - val_accuracy: 0.2389\n",
            "Epoch 2/10\n",
            "469/469 [==============================] - 177s 377ms/step - loss: 2.2258 - accuracy: 0.2632 - val_loss: 2.1839 - val_accuracy: 0.3871\n",
            "Epoch 3/10\n",
            "469/469 [==============================] - 177s 377ms/step - loss: 2.1595 - accuracy: 0.3601 - val_loss: 2.0980 - val_accuracy: 0.5444\n",
            "Epoch 4/10\n",
            "469/469 [==============================] - 175s 372ms/step - loss: 2.0647 - accuracy: 0.4588 - val_loss: 1.9760 - val_accuracy: 0.6422\n",
            "Epoch 5/10\n",
            "469/469 [==============================] - 177s 377ms/step - loss: 1.9311 - accuracy: 0.5396 - val_loss: 1.8035 - val_accuracy: 0.6992\n",
            "Epoch 6/10\n",
            "469/469 [==============================] - 176s 375ms/step - loss: 1.7504 - accuracy: 0.5990 - val_loss: 1.5769 - val_accuracy: 0.7418\n",
            "Epoch 7/10\n",
            "469/469 [==============================] - 176s 375ms/step - loss: 1.5342 - accuracy: 0.6411 - val_loss: 1.3200 - val_accuracy: 0.7731\n",
            "Epoch 8/10\n",
            "469/469 [==============================] - 175s 374ms/step - loss: 1.3146 - accuracy: 0.6755 - val_loss: 1.0821 - val_accuracy: 0.7973\n",
            "Epoch 9/10\n",
            "469/469 [==============================] - 174s 371ms/step - loss: 1.1268 - accuracy: 0.7031 - val_loss: 0.8984 - val_accuracy: 0.8128\n",
            "Epoch 10/10\n",
            "469/469 [==============================] - 174s 372ms/step - loss: 0.9942 - accuracy: 0.7237 - val_loss: 0.7697 - val_accuracy: 0.8271\n",
            "The model has successfully trained\n",
            "Saving the bot as mnist.h5\n"
          ]
        }
      ]
    },
    {
      "cell_type": "code",
      "source": [
        "scores = model.evaluate(X_test, y_test, verbose=0)\n",
        "print(\"Baseline Error: %.2f%%\" % (100-scores[1]*100))"
      ],
      "metadata": {
        "colab": {
          "base_uri": "https://localhost:8080/"
        },
        "id": "JAXVWM_w4hpI",
        "outputId": "7f4744a5-f7d2-4ab3-98e0-2e9f2395f6e3"
      },
      "execution_count": null,
      "outputs": [
        {
          "output_type": "stream",
          "name": "stdout",
          "text": [
            "Baseline Error: 17.33%\n"
          ]
        }
      ]
    },
    {
      "cell_type": "code",
      "source": [
        "score = model.evaluate(x_test, y_test, verbose=0)\n",
        "print('Test loss:', score[0])\n",
        "print('Test accuracy:', score[1])"
      ],
      "metadata": {
        "colab": {
          "base_uri": "https://localhost:8080/"
        },
        "id": "GFRI2dcUomZF",
        "outputId": "92d6a2b1-e2cf-4d5e-df62-669936e09fe2"
      },
      "execution_count": null,
      "outputs": [
        {
          "output_type": "stream",
          "name": "stdout",
          "text": [
            "Test loss: 0.7696795463562012\n",
            "Test accuracy: 0.8270999789237976\n"
          ]
        }
      ]
    }
  ]
}